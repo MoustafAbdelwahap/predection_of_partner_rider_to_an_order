{
 "cells": [
  {
   "cell_type": "code",
   "execution_count": 1,
   "metadata": {},
   "outputs": [
    {
     "name": "stdout",
     "output_type": "stream",
     "text": [
      "[[137.73731473]\n",
      " [103.41082871]\n",
      " [ 51.95282308]\n",
      " ...\n",
      " [ 68.27151593]\n",
      " [ 56.66942038]\n",
      " [ 64.75922791]]\n",
      "                0\n",
      "0      137.737315\n",
      "1      103.410829\n",
      "2       51.952823\n",
      "3       54.172396\n",
      "4      106.425517\n",
      "...           ...\n",
      "53893   53.583667\n",
      "53894   53.725663\n",
      "53895   68.271516\n",
      "53896   56.669420\n",
      "53897   64.759228\n",
      "\n",
      "[53898 rows x 1 columns]\n"
     ]
    }
   ],
   "source": [
    "import pandas as pd\n",
    "import numpy as np\n",
    "import matplotlib.pyplot as plt\n",
    "\n",
    "\n",
    "\n",
    "path='C://Users//TheGhost//Desktop//Hakathon//Test.csv'\n",
    "data=pd.read_csv(path)\n",
    "#data=(data-data.mean())/data.std()\n",
    "\n",
    "theta=np.matrix(np.array([-3.58494162e-12, -9.32044958e-04, -9.90249402e-04 ,-6.84800438e-02, 2.91254771e-03, -4.53293833e-03,  3.64659055e-02 , 1.27988379e-01 ,-2.32493877e-02 , 1.70036181e-04  ,2.70029809e-02, -6.19730243e-02 ,5.36921723e-02 ,-1.31903339e-02  ,9.96753109e-03  ,5.04968446e-02, 4.03247706e-02]))\n",
    "\n",
    "                         \n",
    "data.insert(0,'Ones',1)\n",
    "cols=data.shape[1]\n",
    "x=data.iloc[ : , 0:cols-1]\n",
    "x=np.matrix(x)\n",
    "\n",
    "y=data.iloc[ : , cols-1 : cols]\n",
    "\n",
    "y = x * theta.T\n",
    "print(y)\n",
    "\n",
    "#c=(y*y.std())/+y.mean()\n",
    "\n",
    "d=pd.DataFrame(y)\n",
    "#print(d)\n",
    "\n",
    "for i in d :\n",
    "    if i >= 100 :\n",
    "        i=2\n",
    "    elif i >= 50 and i<100 :\n",
    "        i=1\n",
    "    elif i <= 50 :\n",
    "        i=0\n",
    "print(d)\n",
    "#d.to_csv('C://Users//TheGhost//Desktop//Hakathon//hhh.csv')\n"
   ]
  },
  {
   "cell_type": "code",
   "execution_count": 2,
   "metadata": {},
   "outputs": [
    {
     "ename": "SyntaxError",
     "evalue": "invalid syntax (<ipython-input-2-e079cf58b5a2>, line 13)",
     "output_type": "error",
     "traceback": [
      "\u001b[1;36m  File \u001b[1;32m\"<ipython-input-2-e079cf58b5a2>\"\u001b[1;36m, line \u001b[1;32m13\u001b[0m\n\u001b[1;33m    error\u001b[0m\n\u001b[1;37m    ^\u001b[0m\n\u001b[1;31mSyntaxError\u001b[0m\u001b[1;31m:\u001b[0m invalid syntax\n"
     ]
    }
   ],
   "source": [
    "#data.insert(0,'Ones',1)\n",
    "cols=data.shape[1]\n",
    "x=data.iloc[ : , 0:cols-1]\n",
    "x=np.matrix(x)\n",
    "\n",
    "y=data.iloc[ : , cols-1 : cols]\n",
    "\n",
    "#z=dataFrame1.dot(dataFrame2)\n",
    "\n",
    "#for i in range(iters):\n",
    "      #  error = (X * theta.T)\n",
    "error = (x * theta\n",
    "error"
   ]
  }
 ],
 "metadata": {
  "kernelspec": {
   "display_name": "Python 3",
   "language": "python",
   "name": "python3"
  },
  "language_info": {
   "codemirror_mode": {
    "name": "ipython",
    "version": 3
   },
   "file_extension": ".py",
   "mimetype": "text/x-python",
   "name": "python",
   "nbconvert_exporter": "python",
   "pygments_lexer": "ipython3",
   "version": "3.8.3"
  }
 },
 "nbformat": 4,
 "nbformat_minor": 4
}

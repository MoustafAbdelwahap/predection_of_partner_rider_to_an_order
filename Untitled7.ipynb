{
 "cells": [
  {
   "cell_type": "code",
   "execution_count": 1,
   "metadata": {},
   "outputs": [],
   "source": [
    "import pandas as pd\n",
    "import numpy as np\n",
    "import matplotlib.pyplot as plt"
   ]
  },
  {
   "cell_type": "code",
   "execution_count": 2,
   "metadata": {},
   "outputs": [
    {
     "name": "stderr",
     "output_type": "stream",
     "text": [
      "C:\\Users\\TheGhost\\anaconda3\\lib\\site-packages\\numpy\\core\\_methods.py:38: RuntimeWarning: overflow encountered in reduce\n",
      "  return umr_sum(a, axis, dtype, out, keepdims, initial, where)\n",
      "<ipython-input-2-864530f7bbc9>:49: RuntimeWarning: overflow encountered in power\n",
      "  inner = np.power(((X * theta.T) - y), 2)\n",
      "<ipython-input-2-864530f7bbc9>:40: RuntimeWarning: invalid value encountered in multiply\n",
      "  term = np.multiply(error, X[:,j])\n"
     ]
    },
    {
     "name": "stdout",
     "output_type": "stream",
     "text": [
      "[[nan nan nan nan nan nan nan nan nan nan nan nan nan nan nan nan nan]]\n"
     ]
    }
   ],
   "source": [
    "#reading file\n",
    "\n",
    "path='C://Users//TheGhost//Desktop//Hakathon//Train.csv'\n",
    "data=pd.read_csv(path)\n",
    "#--------------------------------------------------------\n",
    "#Rescaling data - Normalization\n",
    "data=(data-data.mean())/data.std()\n",
    "#--------------------------------------------------------\n",
    "data.insert(0,'Ones',1)\n",
    "#--------------------------------------------------------\n",
    "#separation of inputs and outputs\n",
    "cols=data.shape[1]\n",
    "#print(cols)\n",
    "x=data.iloc[ : , 0:cols-1]\n",
    "y=data.iloc[ : , cols-1 : cols]\n",
    "#print(x)\n",
    "#print('-------')\n",
    "#print(y)\n",
    "#--------------------------------------------------------\n",
    "#Converting inputs and output into matrices\n",
    "x=np.matrix(x)\n",
    "y=np.matrix(y)\n",
    "theta=np.matrix(np.array([0,0,0,0,0,0,0,0,0,0,0,0,0,0,0,0,0]))    #editable (for 16 featurs)\n",
    "#print(theta.shape)\n",
    "#print(x.shape)\n",
    "#print(y.shape)\n",
    "#print(x)\n",
    "#--------------------------------------------------------\n",
    "#gradient descent functions\n",
    "\n",
    "def gradientDescent(X, y, theta, alpha, iters):\n",
    "    temp = np.matrix(np.zeros(theta.shape))\n",
    "    parameters = int(theta.ravel().shape[1])\n",
    "    cost = np.zeros(iters)\n",
    "    \n",
    "    for i in range(iters):\n",
    "        error = (X * theta.T) - y\n",
    "        \n",
    "        for j in range(parameters):\n",
    "            term = np.multiply(error, X[:,j])\n",
    "            temp[0,j] = theta[0,j] - ((alpha / len(X)) * np.sum(term))\n",
    "            \n",
    "        theta = temp\n",
    "        cost[i] = computeCost(X, y, theta)\n",
    "        \n",
    "    return theta, cost\n",
    "\n",
    "def computeCost(X, y, theta):\n",
    "    inner = np.power(((X * theta.T) - y), 2)\n",
    "    return np.sum(inner) / (2 * len(X))\n",
    "#--------------------------------------------------------\n",
    "#applying gradient descent\n",
    "\n",
    "alpha=0.1\n",
    "iters=1000\n",
    "\n",
    "# g: final thetas  - cost: matrix of the value of the Error in each itrate  - Error: final value of error\n",
    "g,cost= gradientDescent(x,y,theta,alpha,iters)\n",
    "\n",
    "Error=computeCost(x,y,g)\n",
    "\n",
    "print(g)\n",
    "#print('--------------------------')\n",
    "#print(cost)\n",
    "#print('--------------------------')\n",
    "print(Error)\n",
    "\n",
    "# itrate=1000 - alpha=0.001  - Error=0.49869591936609337 - featurs=3 \n",
    "# itrate=1000 - alpha=0.1    - Error=0.4984664686922686  - featurs=3 \n",
    "# itrate=1000 - alpha=0.2    - Error=0.4984664686922686  - featurs=3 \n",
    "# itrate=1000 - alpha=0.1    - Error=0.486019352630428   - featurs =16\n",
    "# itrate=1000 - alpha=0.01   - Error=0.4860599555354132  - featurs =16\n",
    "# itrate=1000 - alpha=0.2    - Error=0.4860093620269283   - featurs =16"
   ]
  },
  {
   "cell_type": "code",
   "execution_count": 3,
   "metadata": {},
   "outputs": [
    {
     "name": "stdout",
     "output_type": "stream",
     "text": [
      "[[nan nan nan nan nan nan nan nan nan nan nan nan nan nan nan nan nan]]\n"
     ]
    }
   ],
   "source": [
    "p=open('C://Users//TheGhost//Desktop//Hakathon//bbb.txt','w')\n",
    "p.write(str(g))\n",
    "p.close()\n",
    "\n",
    "\n",
    "print(g[0])"
   ]
  },
  {
   "cell_type": "code",
   "execution_count": 4,
   "metadata": {},
   "outputs": [
    {
     "data": {
      "text/plain": [
       "[[4, 2, 2, 1, 5, 6, 8, 8, 44, 5]]"
      ]
     },
     "execution_count": 4,
     "metadata": {},
     "output_type": "execute_result"
    }
   ],
   "source": [
    "x=[[4,2,2,1,5,6,8,8,44,5]]\n",
    "x\n"
   ]
  },
  {
   "cell_type": "code",
   "execution_count": null,
   "metadata": {},
   "outputs": [],
   "source": []
  },
  {
   "cell_type": "code",
   "execution_count": null,
   "metadata": {},
   "outputs": [],
   "source": [
    "\n"
   ]
  },
  {
   "cell_type": "code",
   "execution_count": null,
   "metadata": {},
   "outputs": [],
   "source": []
  },
  {
   "cell_type": "code",
   "execution_count": null,
   "metadata": {},
   "outputs": [],
   "source": []
  },
  {
   "cell_type": "code",
   "execution_count": null,
   "metadata": {},
   "outputs": [],
   "source": []
  },
  {
   "cell_type": "code",
   "execution_count": null,
   "metadata": {},
   "outputs": [],
   "source": []
  }
 ],
 "metadata": {
  "kernelspec": {
   "display_name": "Python 3",
   "language": "python",
   "name": "python3"
  },
  "language_info": {
   "codemirror_mode": {
    "name": "ipython",
    "version": 3
   },
   "file_extension": ".py",
   "mimetype": "text/x-python",
   "name": "python",
   "nbconvert_exporter": "python",
   "pygments_lexer": "ipython3",
   "version": "3.8.3"
  }
 },
 "nbformat": 4,
 "nbformat_minor": 4
}
